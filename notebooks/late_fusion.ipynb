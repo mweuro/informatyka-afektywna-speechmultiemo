{
 "cells": [
  {
   "cell_type": "code",
   "execution_count": 1,
   "metadata": {},
   "outputs": [],
   "source": [
    "import sys\n",
    "if \"..\" not in sys.path:\n",
    "    sys.path.insert(0, \"..\") \n",
    "\n",
    "from src.utils import *\n",
    "from src.plots import *\n",
    "from src.late_fusion import *"
   ]
  },
  {
   "cell_type": "markdown",
   "metadata": {},
   "source": [
    "# Late fusion"
   ]
  },
  {
   "cell_type": "code",
   "execution_count": 2,
   "metadata": {},
   "outputs": [],
   "source": [
    "DEVICE = torch.device(\"cuda\" if torch.cuda.is_available() else \"cpu\")\n",
    "audio_embs = torch.load('../embeddings/audio/raw_wavlm.pt')\n",
    "video_embs = torch.load('../embeddings/video/raw.pt')"
   ]
  },
  {
   "cell_type": "code",
   "execution_count": 3,
   "metadata": {},
   "outputs": [
    {
     "name": "stderr",
     "output_type": "stream",
     "text": [
      "/home/mweuro/venvy/best_venv/lib/python3.10/site-packages/tqdm/auto.py:21: TqdmWarning: IProgress not found. Please update jupyter and ipywidgets. See https://ipywidgets.readthedocs.io/en/stable/user_install.html\n",
      "  from .autonotebook import tqdm as notebook_tqdm\n"
     ]
    }
   ],
   "source": [
    "train_loader_audio, test_loader_audio = train_test_dataloader(audio_embs)\n",
    "\n",
    "model_audio = MLP(input_dim = 1024, hidden_dims = [512], output_dim = 6).to(DEVICE)\n",
    "criterion = nn.CrossEntropyLoss()\n",
    "optimizer_audio = optim.Adam(model_audio.parameters(), lr = 0.001)\n",
    "num_epochs = 50\n",
    "\n",
    "\n",
    "####################################################################################################\n",
    "\n",
    "\n",
    "train_loader_video, test_loader_video = train_test_dataloader(video_embs)\n",
    "\n",
    "model_video = MLP(input_dim = 512, hidden_dims = [256], output_dim = 6).to(DEVICE)\n",
    "criterion = nn.CrossEntropyLoss()\n",
    "optimizer_video = optim.Adam(model_video.parameters(), lr = 0.001)\n",
    "num_epochs = 50\n",
    "\n",
    "\n",
    "####################################################################################################\n",
    "\n",
    "\n",
    "PARAMS = {'models': [model_audio, model_video],\n",
    "        'optimizers': [optimizer_audio, optimizer_video],\n",
    "        'train_loaders': [train_loader_audio, train_loader_video],\n",
    "        'test_loaders': [test_loader_audio, test_loader_video],\n",
    "        'criterion': criterion,\n",
    "        'num_epochs': num_epochs,\n",
    "        'device': DEVICE}"
   ]
  },
  {
   "cell_type": "code",
   "execution_count": 4,
   "metadata": {},
   "outputs": [
    {
     "name": "stderr",
     "output_type": "stream",
     "text": [
      "                                                               \r"
     ]
    },
    {
     "name": "stdout",
     "output_type": "stream",
     "text": [
      "Epoch 5/50\n",
      "Val Loss Audio: 0.7547,                    Val Accuracy Audio: 0.7126,                    Val Precision Audio: 0.7349,                    Val Recall Audio: 0.7126.\n",
      "Val Loss Video: 1.2802,                    Val Accuracy Video: 0.4607,                    Val Precision Video: 0.5299,                    Val Recall Video: 0.4607.\n",
      "Fusion Loss: 1.5595,                    Fusion Accuracy: 0.5346,                    Fusion Precision: 0.5282,                    Fusion Recall: 0.5346.\n",
      "--------------------------------------------------\n"
     ]
    },
    {
     "name": "stderr",
     "output_type": "stream",
     "text": [
      "                                                               \r"
     ]
    },
    {
     "name": "stdout",
     "output_type": "stream",
     "text": [
      "Epoch 10/50\n",
      "Val Loss Audio: 0.7114,                    Val Accuracy Audio: 0.7388,                    Val Precision Audio: 0.7551,                    Val Recall Audio: 0.7388.\n",
      "Val Loss Video: 1.0952,                    Val Accuracy Video: 0.5588,                    Val Precision Video: 0.5733,                    Val Recall Video: 0.5588.\n",
      "Fusion Loss: 1.5125,                    Fusion Accuracy: 0.5762,                    Fusion Precision: 0.5740,                    Fusion Recall: 0.5762.\n",
      "--------------------------------------------------\n"
     ]
    },
    {
     "name": "stderr",
     "output_type": "stream",
     "text": [
      "                                                               \r"
     ]
    },
    {
     "name": "stdout",
     "output_type": "stream",
     "text": [
      "Epoch 15/50\n",
      "Val Loss Audio: 0.7678,                    Val Accuracy Audio: 0.7099,                    Val Precision Audio: 0.7321,                    Val Recall Audio: 0.7099.\n",
      "Val Loss Video: 1.0592,                    Val Accuracy Video: 0.5850,                    Val Precision Video: 0.6053,                    Val Recall Video: 0.5850.\n",
      "Fusion Loss: 1.4894,                    Fusion Accuracy: 0.6004,                    Fusion Precision: 0.6013,                    Fusion Recall: 0.6004.\n",
      "--------------------------------------------------\n"
     ]
    },
    {
     "name": "stderr",
     "output_type": "stream",
     "text": [
      "                                                               \r"
     ]
    },
    {
     "name": "stdout",
     "output_type": "stream",
     "text": [
      "Epoch 20/50\n",
      "Val Loss Audio: 0.6741,                    Val Accuracy Audio: 0.7461,                    Val Precision Audio: 0.7497,                    Val Recall Audio: 0.7461.\n",
      "Val Loss Video: 1.0605,                    Val Accuracy Video: 0.5675,                    Val Precision Video: 0.5567,                    Val Recall Video: 0.5675.\n",
      "Fusion Loss: 1.4697,                    Fusion Accuracy: 0.6300,                    Fusion Precision: 0.6295,                    Fusion Recall: 0.6300.\n",
      "--------------------------------------------------\n"
     ]
    },
    {
     "name": "stderr",
     "output_type": "stream",
     "text": [
      "                                                               \r"
     ]
    },
    {
     "name": "stdout",
     "output_type": "stream",
     "text": [
      "Epoch 25/50\n",
      "Val Loss Audio: 0.7650,                    Val Accuracy Audio: 0.7240,                    Val Precision Audio: 0.7368,                    Val Recall Audio: 0.7240.\n",
      "Val Loss Video: 0.9359,                    Val Accuracy Video: 0.6273,                    Val Precision Video: 0.6236,                    Val Recall Video: 0.6273.\n",
      "Fusion Loss: 1.4543,                    Fusion Accuracy: 0.6407,                    Fusion Precision: 0.6409,                    Fusion Recall: 0.6407.\n",
      "--------------------------------------------------\n"
     ]
    },
    {
     "name": "stderr",
     "output_type": "stream",
     "text": [
      "                                                               \r"
     ]
    },
    {
     "name": "stdout",
     "output_type": "stream",
     "text": [
      "Epoch 30/50\n",
      "Val Loss Audio: 0.7373,                    Val Accuracy Audio: 0.7421,                    Val Precision Audio: 0.7493,                    Val Recall Audio: 0.7421.\n",
      "Val Loss Video: 0.9756,                    Val Accuracy Video: 0.6085,                    Val Precision Video: 0.6360,                    Val Recall Video: 0.6085.\n",
      "Fusion Loss: 1.4522,                    Fusion Accuracy: 0.6488,                    Fusion Precision: 0.6479,                    Fusion Recall: 0.6488.\n",
      "--------------------------------------------------\n"
     ]
    },
    {
     "name": "stderr",
     "output_type": "stream",
     "text": [
      "                                                               \r"
     ]
    },
    {
     "name": "stdout",
     "output_type": "stream",
     "text": [
      "Epoch 35/50\n",
      "Val Loss Audio: 0.7579,                    Val Accuracy Audio: 0.7495,                    Val Precision Audio: 0.7568,                    Val Recall Audio: 0.7495.\n",
      "Val Loss Video: 0.9026,                    Val Accuracy Video: 0.6427,                    Val Precision Video: 0.6429,                    Val Recall Video: 0.6427.\n",
      "Fusion Loss: 1.4353,                    Fusion Accuracy: 0.6595,                    Fusion Precision: 0.6635,                    Fusion Recall: 0.6595.\n",
      "--------------------------------------------------\n"
     ]
    },
    {
     "name": "stderr",
     "output_type": "stream",
     "text": [
      "                                                               \r"
     ]
    },
    {
     "name": "stdout",
     "output_type": "stream",
     "text": [
      "Epoch 40/50\n",
      "Val Loss Audio: 0.7561,                    Val Accuracy Audio: 0.7495,                    Val Precision Audio: 0.7530,                    Val Recall Audio: 0.7495.\n",
      "Val Loss Video: 0.9510,                    Val Accuracy Video: 0.6279,                    Val Precision Video: 0.6461,                    Val Recall Video: 0.6279.\n",
      "Fusion Loss: 1.4484,                    Fusion Accuracy: 0.6555,                    Fusion Precision: 0.6570,                    Fusion Recall: 0.6555.\n",
      "--------------------------------------------------\n"
     ]
    },
    {
     "name": "stderr",
     "output_type": "stream",
     "text": [
      "                                                               \r"
     ]
    },
    {
     "name": "stdout",
     "output_type": "stream",
     "text": [
      "Epoch 45/50\n",
      "Val Loss Audio: 0.8361,                    Val Accuracy Audio: 0.7515,                    Val Precision Audio: 0.7583,                    Val Recall Audio: 0.7515.\n",
      "Val Loss Video: 0.8760,                    Val Accuracy Video: 0.6655,                    Val Precision Video: 0.6626,                    Val Recall Video: 0.6655.\n",
      "Fusion Loss: 1.4281,                    Fusion Accuracy: 0.6729,                    Fusion Precision: 0.6725,                    Fusion Recall: 0.6729.\n",
      "--------------------------------------------------\n"
     ]
    },
    {
     "name": "stderr",
     "output_type": "stream",
     "text": [
      "                                                               \r"
     ]
    },
    {
     "name": "stdout",
     "output_type": "stream",
     "text": [
      "Epoch 50/50\n",
      "Val Loss Audio: 0.8098,                    Val Accuracy Audio: 0.7455,                    Val Precision Audio: 0.7492,                    Val Recall Audio: 0.7455.\n",
      "Val Loss Video: 0.8859,                    Val Accuracy Video: 0.6488,                    Val Precision Video: 0.6622,                    Val Recall Video: 0.6488.\n",
      "Fusion Loss: 1.4287,                    Fusion Accuracy: 0.6702,                    Fusion Precision: 0.6704,                    Fusion Recall: 0.6702.\n",
      "--------------------------------------------------\n",
      "BEST EPOCH: 44.00          BEST LOSS: 1.43          BEST ACCURACY: 0.67          BEST PRECISION: 0.67          BEST RECALL: 0.67\n"
     ]
    },
    {
     "data": {
      "text/plain": [
       "([1,\n",
       "  2,\n",
       "  3,\n",
       "  4,\n",
       "  5,\n",
       "  6,\n",
       "  7,\n",
       "  8,\n",
       "  9,\n",
       "  10,\n",
       "  11,\n",
       "  12,\n",
       "  13,\n",
       "  14,\n",
       "  15,\n",
       "  16,\n",
       "  17,\n",
       "  18,\n",
       "  19,\n",
       "  20,\n",
       "  21,\n",
       "  22,\n",
       "  23,\n",
       "  24,\n",
       "  25,\n",
       "  26,\n",
       "  27,\n",
       "  28,\n",
       "  29,\n",
       "  30,\n",
       "  31,\n",
       "  32,\n",
       "  33,\n",
       "  34,\n",
       "  35,\n",
       "  36,\n",
       "  37,\n",
       "  38,\n",
       "  39,\n",
       "  40,\n",
       "  41,\n",
       "  42,\n",
       "  43,\n",
       "  44,\n",
       "  45,\n",
       "  46,\n",
       "  47,\n",
       "  48,\n",
       "  49,\n",
       "  50],\n",
       " [1.6676373481750488,\n",
       "  1.6263242959976196,\n",
       "  1.5955266952514648,\n",
       "  1.5752516984939575,\n",
       "  1.5595287084579468,\n",
       "  1.5459786653518677,\n",
       "  1.541273832321167,\n",
       "  1.5261476039886475,\n",
       "  1.5180742740631104,\n",
       "  1.5125393867492676,\n",
       "  1.5055553913116455,\n",
       "  1.4985154867172241,\n",
       "  1.5001252889633179,\n",
       "  1.5029629468917847,\n",
       "  1.4894177913665771,\n",
       "  1.4862276315689087,\n",
       "  1.4810059070587158,\n",
       "  1.4852458238601685,\n",
       "  1.4815711975097656,\n",
       "  1.469683289527893,\n",
       "  1.4689165353775024,\n",
       "  1.4644508361816406,\n",
       "  1.4598745107650757,\n",
       "  1.4593464136123657,\n",
       "  1.4542771577835083,\n",
       "  1.4574142694473267,\n",
       "  1.461561918258667,\n",
       "  1.4520293474197388,\n",
       "  1.44747793674469,\n",
       "  1.4521677494049072,\n",
       "  1.4488413333892822,\n",
       "  1.4418658018112183,\n",
       "  1.446250319480896,\n",
       "  1.4434107542037964,\n",
       "  1.4352567195892334,\n",
       "  1.4441875219345093,\n",
       "  1.4523053169250488,\n",
       "  1.4418576955795288,\n",
       "  1.4409921169281006,\n",
       "  1.4484056234359741,\n",
       "  1.4490231275558472,\n",
       "  1.436938762664795,\n",
       "  1.4451189041137695,\n",
       "  1.4486191272735596,\n",
       "  1.4281048774719238,\n",
       "  1.4451398849487305,\n",
       "  1.432094931602478,\n",
       "  1.4276912212371826,\n",
       "  1.423943042755127,\n",
       "  1.4287292957305908],\n",
       " [0.432505036937542,\n",
       "  0.4761584956346541,\n",
       "  0.4976494291470786,\n",
       "  0.5218267293485561,\n",
       "  0.5345869711215581,\n",
       "  0.544660846205507,\n",
       "  0.5480188045668234,\n",
       "  0.5554063129617193,\n",
       "  0.5748824714573539,\n",
       "  0.5762256548018805,\n",
       "  0.5862995298858295,\n",
       "  0.5963734049697784,\n",
       "  0.5896574882471457,\n",
       "  0.5849563465413029,\n",
       "  0.6004029550033579,\n",
       "  0.6064472800537274,\n",
       "  0.6064472800537274,\n",
       "  0.6037609133646743,\n",
       "  0.615849563465413,\n",
       "  0.6299529885829416,\n",
       "  0.628609805238415,\n",
       "  0.6393552719946273,\n",
       "  0.638683680322364,\n",
       "  0.6346541302887844,\n",
       "  0.6406984553391538,\n",
       "  0.6420416386836804,\n",
       "  0.6359973136333109,\n",
       "  0.6346541302887844,\n",
       "  0.6494291470785762,\n",
       "  0.648757555406313,\n",
       "  0.6648757555406313,\n",
       "  0.6601746138347885,\n",
       "  0.6460711887172599,\n",
       "  0.6554734721289456,\n",
       "  0.6595030221625252,\n",
       "  0.6581598388179987,\n",
       "  0.6400268636668905,\n",
       "  0.6447280053727333,\n",
       "  0.6554734721289456,\n",
       "  0.6554734721289456,\n",
       "  0.6527871054398925,\n",
       "  0.6527871054398925,\n",
       "  0.6655473472128945,\n",
       "  0.6554734721289456,\n",
       "  0.6729348556077904,\n",
       "  0.6474143720617864,\n",
       "  0.6601746138347885,\n",
       "  0.6789791806581599,\n",
       "  0.6715916722632639,\n",
       "  0.6702484889187375],\n",
       " [0.4273935028130611,\n",
       "  0.4691662594127065,\n",
       "  0.49245141438149426,\n",
       "  0.5097958712240231,\n",
       "  0.5282188689869258,\n",
       "  0.5386307962020817,\n",
       "  0.547443347226558,\n",
       "  0.5559562849641116,\n",
       "  0.5704466066412489,\n",
       "  0.5739761036368467,\n",
       "  0.5866666378780806,\n",
       "  0.5947990656291419,\n",
       "  0.5840590755685752,\n",
       "  0.5835827192020441,\n",
       "  0.6013409126781537,\n",
       "  0.6049463539980707,\n",
       "  0.604303346330134,\n",
       "  0.603959732712199,\n",
       "  0.6155981229095123,\n",
       "  0.6295261801280811,\n",
       "  0.630479832677713,\n",
       "  0.6391002176151986,\n",
       "  0.6363373772132389,\n",
       "  0.6351275558862003,\n",
       "  0.6408946461645662,\n",
       "  0.640272953118841,\n",
       "  0.6340398483917371,\n",
       "  0.6355073339696002,\n",
       "  0.6466187115067697,\n",
       "  0.6479353042422624,\n",
       "  0.6661521560378981,\n",
       "  0.6613163637662671,\n",
       "  0.6474979000994824,\n",
       "  0.6548743367027245,\n",
       "  0.6634590284152584,\n",
       "  0.6554526680077659,\n",
       "  0.638677638705687,\n",
       "  0.6454455760691094,\n",
       "  0.6576740360847724,\n",
       "  0.6569985950411967,\n",
       "  0.6517551459697166,\n",
       "  0.6492149773261758,\n",
       "  0.6668884195024469,\n",
       "  0.6569016415378669,\n",
       "  0.6725357605669547,\n",
       "  0.6481028686300249,\n",
       "  0.6612249417510244,\n",
       "  0.6822348437913924,\n",
       "  0.6676251397842875,\n",
       "  0.6703905389911443],\n",
       " [0.432505036937542,\n",
       "  0.4761584956346541,\n",
       "  0.4976494291470786,\n",
       "  0.5218267293485561,\n",
       "  0.5345869711215581,\n",
       "  0.544660846205507,\n",
       "  0.5480188045668234,\n",
       "  0.5554063129617193,\n",
       "  0.5748824714573539,\n",
       "  0.5762256548018805,\n",
       "  0.5862995298858295,\n",
       "  0.5963734049697784,\n",
       "  0.5896574882471457,\n",
       "  0.5849563465413029,\n",
       "  0.6004029550033579,\n",
       "  0.6064472800537274,\n",
       "  0.6064472800537274,\n",
       "  0.6037609133646743,\n",
       "  0.615849563465413,\n",
       "  0.6299529885829416,\n",
       "  0.628609805238415,\n",
       "  0.6393552719946273,\n",
       "  0.638683680322364,\n",
       "  0.6346541302887844,\n",
       "  0.6406984553391538,\n",
       "  0.6420416386836804,\n",
       "  0.6359973136333109,\n",
       "  0.6346541302887844,\n",
       "  0.6494291470785762,\n",
       "  0.648757555406313,\n",
       "  0.6648757555406313,\n",
       "  0.6601746138347885,\n",
       "  0.6460711887172599,\n",
       "  0.6554734721289456,\n",
       "  0.6595030221625252,\n",
       "  0.6581598388179987,\n",
       "  0.6400268636668905,\n",
       "  0.6447280053727333,\n",
       "  0.6554734721289456,\n",
       "  0.6554734721289456,\n",
       "  0.6527871054398925,\n",
       "  0.6527871054398925,\n",
       "  0.6655473472128945,\n",
       "  0.6554734721289456,\n",
       "  0.6729348556077904,\n",
       "  0.6474143720617864,\n",
       "  0.6601746138347885,\n",
       "  0.6789791806581599,\n",
       "  0.6715916722632639,\n",
       "  0.6702484889187375],\n",
       " 44,\n",
       " array([[147,   4,  29,  26,  13,   3],\n",
       "        [  5, 208,   4,   6,   0,   4],\n",
       "        [ 42,   6, 117,   9,  61,  19],\n",
       "        [ 32,   6,   9, 199,  25,   6],\n",
       "        [ 21,   2,  57,  36, 136,   7],\n",
       "        [  5,   4,  17,  17,  12, 195]]))"
      ]
     },
     "execution_count": 4,
     "metadata": {},
     "output_type": "execute_result"
    }
   ],
   "source": [
    "train_late_fusion(**PARAMS)"
   ]
  }
 ],
 "metadata": {
  "kernelspec": {
   "display_name": "best_venv",
   "language": "python",
   "name": "python3"
  },
  "language_info": {
   "codemirror_mode": {
    "name": "ipython",
    "version": 3
   },
   "file_extension": ".py",
   "mimetype": "text/x-python",
   "name": "python",
   "nbconvert_exporter": "python",
   "pygments_lexer": "ipython3",
   "version": "3.10.12"
  }
 },
 "nbformat": 4,
 "nbformat_minor": 2
}
