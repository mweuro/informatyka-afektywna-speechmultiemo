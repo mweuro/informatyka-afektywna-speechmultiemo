{
 "cells": [
  {
   "cell_type": "code",
   "execution_count": 1,
   "metadata": {},
   "outputs": [],
   "source": [
    "import sys\n",
    "if \"..\" not in sys.path:\n",
    "    sys.path.insert(0, \"..\") \n",
    "\n",
    "from src.utils import *"
   ]
  },
  {
   "cell_type": "markdown",
   "metadata": {},
   "source": [
    "# Late fusion"
   ]
  },
  {
   "cell_type": "code",
   "execution_count": 2,
   "metadata": {},
   "outputs": [],
   "source": [
    "DEVICE = torch.device(\"cuda\" if torch.cuda.is_available() else \"cpu\")\n",
    "audio_embs = torch.load('../embeddings/audio/raw.pt')\n",
    "video_embs = torch.load('../embeddings/video/raw2.pt')"
   ]
  },
  {
   "cell_type": "code",
   "execution_count": 3,
   "metadata": {},
   "outputs": [
    {
     "name": "stderr",
     "output_type": "stream",
     "text": [
      "/home/mweuro/venvy/best_venv/lib/python3.10/site-packages/tqdm/auto.py:21: TqdmWarning: IProgress not found. Please update jupyter and ipywidgets. See https://ipywidgets.readthedocs.io/en/stable/user_install.html\n",
      "  from .autonotebook import tqdm as notebook_tqdm\n",
      "                                                               \r"
     ]
    }
   ],
   "source": [
    "train_loader_audio, test_loader_audio = train_test_dataloader(audio_embs)\n",
    "\n",
    "model_audio = MLP(input_dim = 768, hidden_dims = [512, 256], output_dim = 6).to(DEVICE)\n",
    "criterion = nn.CrossEntropyLoss()\n",
    "optimizer = optim.Adam(model_audio.parameters(), lr = 0.001)\n",
    "num_epochs = 50\n",
    "\n",
    "PARAMS_AUDIO = {'model': model_audio,\n",
    "          'criterion': criterion,\n",
    "          'optimizer': optimizer,\n",
    "          'num_epochs': num_epochs,\n",
    "          'train_loader': train_loader_audio,\n",
    "          'test_loader': test_loader_audio,\n",
    "          'device': DEVICE}\n",
    "\n",
    "\n",
    "audio_outputs, audio_labels = train_late_fusion_model(**PARAMS_AUDIO)"
   ]
  },
  {
   "cell_type": "code",
   "execution_count": 4,
   "metadata": {},
   "outputs": [
    {
     "name": "stderr",
     "output_type": "stream",
     "text": [
      "                                                               \r"
     ]
    }
   ],
   "source": [
    "train_loader_video, test_loader_video = train_test_dataloader(video_embs)\n",
    "\n",
    "model_video = MLP(input_dim = 512, hidden_dims = [512, 256], output_dim = 6).to(DEVICE)\n",
    "criterion = nn.CrossEntropyLoss()\n",
    "optimizer = optim.Adam(model_video.parameters(), lr = 0.001)\n",
    "num_epochs = 50\n",
    "\n",
    "PARAMS_VIDEO = {'model': model_video,\n",
    "          'criterion': criterion,\n",
    "          'optimizer': optimizer,\n",
    "          'num_epochs': num_epochs,\n",
    "          'train_loader': train_loader_video,\n",
    "          'test_loader': test_loader_video,\n",
    "          'device': DEVICE}\n",
    "\n",
    "\n",
    "video_outputs, video_labels = train_late_fusion_model(**PARAMS_VIDEO)"
   ]
  },
  {
   "cell_type": "code",
   "execution_count": 5,
   "metadata": {},
   "outputs": [],
   "source": [
    "def late_fusion(audio_outputs, video_outputs, labels):\n",
    "    idx = -1\n",
    "    total_loss = 0\n",
    "    all_fused_logits = []\n",
    "    softmax = nn.Softmax(dim = 0)\n",
    "    for i, j in zip(audio_outputs[idx], video_outputs[idx]):\n",
    "        fused_logit = (softmax(i) + softmax(j)) / 2\n",
    "        all_fused_logits.append(fused_logit)\n",
    "    outputs = torch.stack(all_fused_logits, dim = 0)\n",
    "    loss = criterion(outputs, torch.tensor(labels[idx]).to(DEVICE))\n",
    "    total_loss += loss.item()\n",
    "    preds = torch.argmax(outputs, dim = 1).cpu().numpy()\n",
    "    accuracy = accuracy_score(labels[idx], preds)\n",
    "    print(f\"Val Loss: {total_loss:.4f}, Val Accuracy: {accuracy:.4f}\")"
   ]
  },
  {
   "cell_type": "code",
   "execution_count": 6,
   "metadata": {},
   "outputs": [
    {
     "name": "stdout",
     "output_type": "stream",
     "text": [
      "Val Loss: 1.6706, Val Accuracy: 0.3768\n"
     ]
    }
   ],
   "source": [
    "late_fusion(audio_outputs, video_outputs, video_labels)"
   ]
  }
 ],
 "metadata": {
  "kernelspec": {
   "display_name": "best_venv",
   "language": "python",
   "name": "python3"
  },
  "language_info": {
   "codemirror_mode": {
    "name": "ipython",
    "version": 3
   },
   "file_extension": ".py",
   "mimetype": "text/x-python",
   "name": "python",
   "nbconvert_exporter": "python",
   "pygments_lexer": "ipython3",
   "version": "3.10.12"
  }
 },
 "nbformat": 4,
 "nbformat_minor": 2
}
