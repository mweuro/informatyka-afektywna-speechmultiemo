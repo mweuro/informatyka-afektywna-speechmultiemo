{
 "cells": [
  {
   "cell_type": "code",
   "execution_count": 1,
   "metadata": {},
   "outputs": [],
   "source": [
    "import sys\n",
    "if \"..\" not in sys.path:\n",
    "    sys.path.insert(0, \"..\") \n",
    "\n",
    "from src.utils import *"
   ]
  },
  {
   "cell_type": "markdown",
   "metadata": {},
   "source": [
    "# Late fusion"
   ]
  },
  {
   "cell_type": "code",
   "execution_count": 2,
   "metadata": {},
   "outputs": [],
   "source": [
    "DEVICE = torch.device(\"cuda\" if torch.cuda.is_available() else \"cpu\")\n",
    "audio_embs = torch.load('../embeddings/audio/raw.pt')\n",
    "video_embs = torch.load('../embeddings/video/raw2.pt')"
   ]
  },
  {
   "cell_type": "code",
   "execution_count": null,
   "metadata": {},
   "outputs": [],
   "source": [
    "train_loader_audio, test_loader_audio = train_test_dataloader(audio_embs)\n",
    "train_loader_video, test_loader_video = train_test_dataloader(video_embs)"
   ]
  },
  {
   "cell_type": "code",
   "execution_count": 3,
   "metadata": {},
   "outputs": [
    {
     "ename": "KeyError",
     "evalue": "0",
     "output_type": "error",
     "traceback": [
      "\u001b[0;31m---------------------------------------------------------------------------\u001b[0m",
      "\u001b[0;31mKeyError\u001b[0m                                  Traceback (most recent call last)",
      "Cell \u001b[0;32mIn[3], line 2\u001b[0m\n\u001b[1;32m      1\u001b[0m mlp \u001b[38;5;241m=\u001b[39m MLP(\u001b[38;5;241m768\u001b[39m, [\u001b[38;5;241m512\u001b[39m, \u001b[38;5;241m256\u001b[39m], \u001b[38;5;241m6\u001b[39m)\n\u001b[0;32m----> 2\u001b[0m mlp(\u001b[43maudio_embs\u001b[49m\u001b[43m[\u001b[49m\u001b[38;5;241;43m0\u001b[39;49m\u001b[43m]\u001b[49m[\u001b[38;5;241m0\u001b[39m])\n",
      "\u001b[0;31mKeyError\u001b[0m: 0"
     ]
    }
   ],
   "source": [
    "def fuse(logits1, logits2):\n",
    "    return (logits1 + logits2) / 2"
   ]
  },
  {
   "cell_type": "code",
   "execution_count": null,
   "metadata": {},
   "outputs": [],
   "source": [
    "class LateFusionMLP(nn.Module):\n",
    "    def __init__(self, input_audio, input_video):\n",
    "        super(LateFusionMLP, self).__init__()\n",
    "        \n",
    "        MLP_audio = MLP(input_dim = 768, hidden_dims = [512, 256], output_dim = 6).to(DEVICE)\n",
    "        MLP_video = MLP(input_dim = 512, hidden_dims = [512, 256], output_dim = 6).to(DEVICE)\n",
    "        self.fused = (MLP_audio(input_audio) + MLP_video(input_video)) / 2\n",
    "        self.model = nn.Sequential(*layers)\n",
    "    \n",
    "    def forward(self, input_fused):\n",
    "        logits = self.model(input_fused)\n",
    "        return logits"
   ]
  }
 ],
 "metadata": {
  "kernelspec": {
   "display_name": "best_venv",
   "language": "python",
   "name": "python3"
  },
  "language_info": {
   "codemirror_mode": {
    "name": "ipython",
    "version": 3
   },
   "file_extension": ".py",
   "mimetype": "text/x-python",
   "name": "python",
   "nbconvert_exporter": "python",
   "pygments_lexer": "ipython3",
   "version": "3.10.12"
  }
 },
 "nbformat": 4,
 "nbformat_minor": 2
}
