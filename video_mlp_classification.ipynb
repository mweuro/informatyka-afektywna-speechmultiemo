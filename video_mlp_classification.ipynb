{
 "cells": [
  {
   "cell_type": "code",
   "execution_count": 1,
   "metadata": {},
   "outputs": [],
   "source": [
    "import numpy as np\n",
    "import os\n",
    "import tqdm\n",
    "import torch\n",
    "import torch.nn as nn\n",
    "import torch.optim as optim\n",
    "from sklearn.metrics import accuracy_score"
   ]
  },
  {
   "cell_type": "code",
   "execution_count": 2,
   "metadata": {},
   "outputs": [],
   "source": [
    "device = torch.device(\"cuda\" if torch.cuda.is_available() else \"cpu\")"
   ]
  },
  {
   "cell_type": "code",
   "execution_count": 3,
   "metadata": {},
   "outputs": [],
   "source": [
    "class MLPClassifier(nn.Module):\n",
    "\n",
    "    def __init__(self, input_size, layer_sizes, num_classes):\n",
    "        \"\"\"\n",
    "        Args:\n",
    "        - input_size (int): Rozmiar wektora wejściowego (np. 768).\n",
    "        - layer_sizes (list of int): Lista z rozmiarami każdej warstwy ukrytej.\n",
    "        - num_classes (int): Liczba klas w klasyfikacji.\n",
    "        \"\"\"\n",
    "        super().__init__()\n",
    "        \n",
    "        layers = []\n",
    "        \n",
    "        in_features = input_size\n",
    "        for out_features in layer_sizes:\n",
    "            layers.append(nn.Linear(in_features, out_features))\n",
    "            layers.append(nn.ReLU())\n",
    "            in_features = out_features\n",
    "        layers.append(nn.Linear(in_features, num_classes))\n",
    "        \n",
    "        self.model = nn.Sequential(*layers)\n",
    "    \n",
    "    def forward(self, x):\n",
    "        return self.model(x)"
   ]
  },
  {
   "cell_type": "code",
   "execution_count": 4,
   "metadata": {},
   "outputs": [],
   "source": [
    "def train_model(model, train_loader, val_loader, criterion, optimizer, epochs):\n",
    "    \"\"\"\n",
    "    Funkcja do trenowania modelu.\n",
    "    \n",
    "    Args:\n",
    "    - model: Model PyTorch do trenowania.\n",
    "    - train_loader: Dataloader dla danych treningowych.\n",
    "    - val_loader: Dataloader dla danych walidacyjnych.\n",
    "    - criterion: Funkcja kosztu (np. CrossEntropyLoss).\n",
    "    - optimizer: Optymalizator (np. Adam).\n",
    "    - epochs: Liczba epok.\n",
    "    \"\"\"\n",
    "    model.to(device)\n",
    "    \n",
    "    for epoch in range(epochs):\n",
    "        model.train()\n",
    "        train_loss = 0\n",
    "        train_targets = []\n",
    "        train_preds = []\n",
    "        for inputs, targets in train_loader:\n",
    "            inputs, targets = inputs.to(device), targets.to(device)\n",
    "            \n",
    "            optimizer.zero_grad()\n",
    "            outputs = model(inputs)\n",
    "            \n",
    "            loss = criterion(outputs, targets)\n",
    "            loss.backward()\n",
    "            optimizer.step()\n",
    "            \n",
    "            train_loss += loss.item()\n",
    "            train_preds.extend(torch.argmax(outputs, dim=1).cpu().numpy())\n",
    "            train_targets.extend(targets.cpu().numpy())\n",
    "        \n",
    "        train_accuracy = accuracy_score(train_targets, train_preds)\n",
    "        \n",
    "        model.eval()\n",
    "        val_loss = 0\n",
    "        val_targets = []\n",
    "        val_preds = []\n",
    "        with torch.no_grad():\n",
    "            for inputs, targets in val_loader:\n",
    "                inputs, targets = inputs.to(device), targets.to(device)\n",
    "                outputs = model(inputs)\n",
    "                \n",
    "                loss = criterion(outputs, targets)\n",
    "                val_loss += loss.item()\n",
    "                \n",
    "                val_preds.extend(torch.argmax(outputs, dim=1).cpu().numpy())\n",
    "                val_targets.extend(targets.cpu().numpy())\n",
    "        \n",
    "        val_accuracy = accuracy_score(val_targets, val_preds)\n",
    "        \n",
    "        print(f\"Epoch {epoch+1}/{epochs}\")\n",
    "        print(f\"Train Loss: {train_loss/len(train_loader):.4f}, Train Accuracy: {train_accuracy:.4f}\")\n",
    "        print(f\"Val Loss: {val_loss/len(val_loader):.4f}, Val Accuracy: {val_accuracy:.4f}\")\n",
    "        print(\"-\" * 50)"
   ]
  },
  {
   "cell_type": "code",
   "execution_count": 5,
   "metadata": {},
   "outputs": [],
   "source": [
    "input_size = 512             \n",
    "layer_sizes = [256, 128]  \n",
    "num_classes = 6                \n",
    "\n",
    "model = MLPClassifier(input_size, layer_sizes, num_classes)\n",
    "\n",
    "batch_size = 32\n",
    "learning_rate = 0.001\n",
    "epochs = 20"
   ]
  },
  {
   "cell_type": "code",
   "execution_count": 6,
   "metadata": {},
   "outputs": [],
   "source": [
    "files = os.listdir('data/video_data')\n",
    "files = [file for file in files if file != '1076_MTI_SAD_XX.flv']"
   ]
  },
  {
   "cell_type": "code",
   "execution_count": 7,
   "metadata": {},
   "outputs": [],
   "source": [
    "speaker = []\n",
    "y = []\n",
    "for file in files:\n",
    "    emo = file.split('_')[2]\n",
    "    sp = file.split('_')[0]\n",
    "    y.append(emo)\n",
    "    speaker.append(sp)"
   ]
  },
  {
   "cell_type": "code",
   "execution_count": 8,
   "metadata": {},
   "outputs": [
    {
     "name": "stdout",
     "output_type": "stream",
     "text": [
      "5720\n",
      "1065\n",
      "656\n"
     ]
    }
   ],
   "source": [
    "from collections import Counter\n",
    "c = Counter(speaker)\n",
    "print(sum(list(c.values())[:70]))\n",
    "\n",
    "print(sum(list(c.values())[70:83]))\n",
    "\n",
    "print(sum(list(c.values())[83:]))"
   ]
  },
  {
   "cell_type": "code",
   "execution_count": 9,
   "metadata": {},
   "outputs": [],
   "source": [
    "y_map = {\n",
    "    'NEU': 0,\n",
    "    'HAP': 1,\n",
    "    'SAD': 2,\n",
    "    'ANG': 3,\n",
    "    'FEA': 4,\n",
    "    'DIS': 5\n",
    "}"
   ]
  },
  {
   "cell_type": "code",
   "execution_count": 10,
   "metadata": {},
   "outputs": [],
   "source": [
    "video_embeddings = np.load('embeddings/video_embeddings_cnn.npy')"
   ]
  },
  {
   "cell_type": "code",
   "execution_count": 11,
   "metadata": {},
   "outputs": [],
   "source": [
    "x_train = torch.Tensor(video_embeddings[:5720])\n",
    "x_val = torch.Tensor(video_embeddings[5720:6785])\n",
    "x_test = torch.Tensor(video_embeddings[6785:])\n",
    "y_train = torch.Tensor([y_map[a] for a in y[:5720]]).long()\n",
    "y_val = torch.Tensor([y_map[a] for a in y[5720:6785]]).long()\n",
    "y_test = torch.Tensor([y_map[a] for a in y[6785:]]).long()"
   ]
  },
  {
   "cell_type": "code",
   "execution_count": 12,
   "metadata": {},
   "outputs": [],
   "source": [
    "train_dataset = torch.utils.data.TensorDataset(x_train, y_train)\n",
    "val_dataset = torch.utils.data.TensorDataset(x_val, y_val)\n",
    "train_loader = torch.utils.data.DataLoader(train_dataset, batch_size=batch_size, shuffle=True)\n",
    "val_loader = torch.utils.data.DataLoader(val_dataset, batch_size=batch_size, shuffle=False)"
   ]
  },
  {
   "cell_type": "code",
   "execution_count": 13,
   "metadata": {},
   "outputs": [
    {
     "name": "stdout",
     "output_type": "stream",
     "text": [
      "Epoch 1/20\n",
      "Train Loss: 1.6500, Train Accuracy: 0.2802\n",
      "Val Loss: 1.5649, Val Accuracy: 0.3070\n",
      "--------------------------------------------------\n",
      "Epoch 2/20\n",
      "Train Loss: 1.4908, Train Accuracy: 0.3605\n",
      "Val Loss: 1.4428, Val Accuracy: 0.3521\n",
      "--------------------------------------------------\n",
      "Epoch 3/20\n",
      "Train Loss: 1.4020, Train Accuracy: 0.4131\n",
      "Val Loss: 1.3668, Val Accuracy: 0.4244\n",
      "--------------------------------------------------\n",
      "Epoch 4/20\n",
      "Train Loss: 1.3018, Train Accuracy: 0.4706\n",
      "Val Loss: 1.2419, Val Accuracy: 0.4779\n",
      "--------------------------------------------------\n",
      "Epoch 5/20\n",
      "Train Loss: 1.2457, Train Accuracy: 0.4928\n",
      "Val Loss: 1.1790, Val Accuracy: 0.5371\n",
      "--------------------------------------------------\n",
      "Epoch 6/20\n",
      "Train Loss: 1.1788, Train Accuracy: 0.5231\n",
      "Val Loss: 1.1393, Val Accuracy: 0.5183\n",
      "--------------------------------------------------\n",
      "Epoch 7/20\n",
      "Train Loss: 1.1359, Train Accuracy: 0.5413\n",
      "Val Loss: 1.0353, Val Accuracy: 0.5859\n",
      "--------------------------------------------------\n",
      "Epoch 8/20\n",
      "Train Loss: 1.1535, Train Accuracy: 0.5337\n",
      "Val Loss: 1.0699, Val Accuracy: 0.5446\n",
      "--------------------------------------------------\n",
      "Epoch 9/20\n",
      "Train Loss: 1.0691, Train Accuracy: 0.5687\n",
      "Val Loss: 0.9746, Val Accuracy: 0.6028\n",
      "--------------------------------------------------\n",
      "Epoch 10/20\n",
      "Train Loss: 1.0186, Train Accuracy: 0.5864\n",
      "Val Loss: 1.0338, Val Accuracy: 0.5653\n",
      "--------------------------------------------------\n",
      "Epoch 11/20\n",
      "Train Loss: 1.0454, Train Accuracy: 0.5788\n",
      "Val Loss: 1.0616, Val Accuracy: 0.5887\n",
      "--------------------------------------------------\n",
      "Epoch 12/20\n",
      "Train Loss: 0.9919, Train Accuracy: 0.6009\n",
      "Val Loss: 0.9863, Val Accuracy: 0.5915\n",
      "--------------------------------------------------\n",
      "Epoch 13/20\n",
      "Train Loss: 0.9734, Train Accuracy: 0.6094\n",
      "Val Loss: 1.1032, Val Accuracy: 0.5615\n",
      "--------------------------------------------------\n",
      "Epoch 14/20\n",
      "Train Loss: 0.9406, Train Accuracy: 0.6260\n",
      "Val Loss: 0.8925, Val Accuracy: 0.6460\n",
      "--------------------------------------------------\n",
      "Epoch 15/20\n",
      "Train Loss: 0.9393, Train Accuracy: 0.6276\n",
      "Val Loss: 0.8907, Val Accuracy: 0.6498\n",
      "--------------------------------------------------\n",
      "Epoch 16/20\n",
      "Train Loss: 0.9117, Train Accuracy: 0.6357\n",
      "Val Loss: 0.8589, Val Accuracy: 0.6610\n",
      "--------------------------------------------------\n",
      "Epoch 17/20\n",
      "Train Loss: 0.8915, Train Accuracy: 0.6497\n",
      "Val Loss: 0.9193, Val Accuracy: 0.6423\n",
      "--------------------------------------------------\n",
      "Epoch 18/20\n",
      "Train Loss: 0.9240, Train Accuracy: 0.6280\n",
      "Val Loss: 0.8909, Val Accuracy: 0.6329\n",
      "--------------------------------------------------\n",
      "Epoch 19/20\n",
      "Train Loss: 0.8550, Train Accuracy: 0.6642\n",
      "Val Loss: 1.1691, Val Accuracy: 0.5587\n",
      "--------------------------------------------------\n",
      "Epoch 20/20\n",
      "Train Loss: 0.8452, Train Accuracy: 0.6712\n",
      "Val Loss: 0.8069, Val Accuracy: 0.6770\n",
      "--------------------------------------------------\n"
     ]
    }
   ],
   "source": [
    "criterion = nn.CrossEntropyLoss()\n",
    "optimizer = optim.Adam(model.parameters(), lr=learning_rate)\n",
    "train_model(model, train_loader, val_loader, criterion, optimizer, epochs)"
   ]
  },
  {
   "cell_type": "code",
   "execution_count": null,
   "metadata": {},
   "outputs": [],
   "source": []
  }
 ],
 "metadata": {
  "kernelspec": {
   "display_name": "emo",
   "language": "python",
   "name": "python3"
  },
  "language_info": {
   "codemirror_mode": {
    "name": "ipython",
    "version": 3
   },
   "file_extension": ".py",
   "mimetype": "text/x-python",
   "name": "python",
   "nbconvert_exporter": "python",
   "pygments_lexer": "ipython3",
   "version": "3.10.12"
  }
 },
 "nbformat": 4,
 "nbformat_minor": 2
}
