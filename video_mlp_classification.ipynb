{
 "cells": [
  {
   "cell_type": "code",
   "execution_count": 1,
   "metadata": {},
   "outputs": [],
   "source": [
    "import numpy as np\n",
    "import os\n",
    "import tqdm\n",
    "import torch\n",
    "import torch.nn as nn\n",
    "import torch.optim as optim\n",
    "from sklearn.metrics import accuracy_score"
   ]
  },
  {
   "cell_type": "code",
   "execution_count": 2,
   "metadata": {},
   "outputs": [],
   "source": [
    "device = torch.device(\"cuda\" if torch.cuda.is_available() else \"cpu\")"
   ]
  },
  {
   "cell_type": "code",
   "execution_count": 3,
   "metadata": {},
   "outputs": [],
   "source": [
    "class MLPClassifier(nn.Module):\n",
    "\n",
    "    def __init__(self, input_size, layer_sizes, num_classes):\n",
    "        \"\"\"\n",
    "        Args:\n",
    "        - input_size (int): Rozmiar wektora wejściowego (np. 768).\n",
    "        - layer_sizes (list of int): Lista z rozmiarami każdej warstwy ukrytej.\n",
    "        - num_classes (int): Liczba klas w klasyfikacji.\n",
    "        \"\"\"\n",
    "        super().__init__()\n",
    "        \n",
    "        layers = []\n",
    "        \n",
    "        in_features = input_size\n",
    "        for out_features in layer_sizes:\n",
    "            layers.append(nn.Linear(in_features, out_features))\n",
    "            layers.append(nn.ReLU())\n",
    "            in_features = out_features\n",
    "        layers.append(nn.Linear(in_features, num_classes))\n",
    "        \n",
    "        self.model = nn.Sequential(*layers)\n",
    "    \n",
    "    def forward(self, x):\n",
    "        return self.model(x)"
   ]
  },
  {
   "cell_type": "code",
   "execution_count": 4,
   "metadata": {},
   "outputs": [],
   "source": [
    "def train_model(model, train_loader, val_loader, criterion, optimizer, epochs):\n",
    "    \"\"\"\n",
    "    Funkcja do trenowania modelu.\n",
    "    \n",
    "    Args:\n",
    "    - model: Model PyTorch do trenowania.\n",
    "    - train_loader: Dataloader dla danych treningowych.\n",
    "    - val_loader: Dataloader dla danych walidacyjnych.\n",
    "    - criterion: Funkcja kosztu (np. CrossEntropyLoss).\n",
    "    - optimizer: Optymalizator (np. Adam).\n",
    "    - epochs: Liczba epok.\n",
    "    \"\"\"\n",
    "    model.to(device)\n",
    "    \n",
    "    for epoch in range(epochs):\n",
    "        model.train()\n",
    "        train_loss = 0\n",
    "        train_targets = []\n",
    "        train_preds = []\n",
    "        for inputs, targets in train_loader:\n",
    "            inputs, targets = inputs.to(device), targets.to(device)\n",
    "            \n",
    "            optimizer.zero_grad()\n",
    "            outputs = model(inputs)\n",
    "            \n",
    "            loss = criterion(outputs, targets)\n",
    "            loss.backward()\n",
    "            optimizer.step()\n",
    "            \n",
    "            train_loss += loss.item()\n",
    "            train_preds.extend(torch.argmax(outputs, dim=1).cpu().numpy())\n",
    "            train_targets.extend(targets.cpu().numpy())\n",
    "        \n",
    "        train_accuracy = accuracy_score(train_targets, train_preds)\n",
    "        \n",
    "        model.eval()\n",
    "        val_loss = 0\n",
    "        val_targets = []\n",
    "        val_preds = []\n",
    "        with torch.no_grad():\n",
    "            for inputs, targets in val_loader:\n",
    "                inputs, targets = inputs.to(device), targets.to(device)\n",
    "                outputs = model(inputs)\n",
    "                \n",
    "                loss = criterion(outputs, targets)\n",
    "                val_loss += loss.item()\n",
    "                \n",
    "                val_preds.extend(torch.argmax(outputs, dim=1).cpu().numpy())\n",
    "                val_targets.extend(targets.cpu().numpy())\n",
    "        \n",
    "        val_accuracy = accuracy_score(val_targets, val_preds)\n",
    "        \n",
    "        print(f\"Epoch {epoch+1}/{epochs}\")\n",
    "        print(f\"Train Loss: {train_loss/len(train_loader):.4f}, Train Accuracy: {train_accuracy:.4f}\")\n",
    "        print(f\"Val Loss: {val_loss/len(val_loader):.4f}, Val Accuracy: {val_accuracy:.4f}\")\n",
    "        print(\"-\" * 50)"
   ]
  },
  {
   "cell_type": "code",
   "execution_count": 5,
   "metadata": {},
   "outputs": [],
   "source": [
    "input_size = 512             \n",
    "layer_sizes = [256, 128]  \n",
    "num_classes = 6                \n",
    "\n",
    "model = MLPClassifier(input_size, layer_sizes, num_classes)\n",
    "\n",
    "batch_size = 32\n",
    "learning_rate = 0.001\n",
    "epochs = 20"
   ]
  },
  {
   "cell_type": "code",
   "execution_count": 6,
   "metadata": {},
   "outputs": [],
   "source": [
    "files = os.listdir('data/video_data')\n",
    "files = [file for file in files if file != '1076_MTI_SAD_XX.flv']"
   ]
  },
  {
   "cell_type": "code",
   "execution_count": 7,
   "metadata": {},
   "outputs": [],
   "source": [
    "speaker = []\n",
    "y = []\n",
    "for file in files:\n",
    "    emo = file.split('_')[2]\n",
    "    sp = file.split('_')[0]\n",
    "    y.append(emo)\n",
    "    speaker.append(sp)"
   ]
  },
  {
   "cell_type": "code",
   "execution_count": null,
   "metadata": {},
   "outputs": [
    {
     "name": "stdout",
     "output_type": "stream",
     "text": [
      "5720\n",
      "1065\n",
      "656\n"
     ]
    }
   ],
   "source": [
    "from collections import Counter\n",
    "c = Counter(speaker)\n",
    "print(sum(list(c.values())[:70]))\n",
    "\n",
    "print(sum(list(c.values())[70:83]))\n",
    "\n",
    "print(sum(list(c.values())[83:]))"
   ]
  },
  {
   "cell_type": "code",
   "execution_count": 9,
   "metadata": {},
   "outputs": [],
   "source": [
    "y_map = {\n",
    "    'NEU': 0,\n",
    "    'HAP': 1,\n",
    "    'SAD': 2,\n",
    "    'ANG': 3,\n",
    "    'FEA': 4,\n",
    "    'DIS': 5\n",
    "}"
   ]
  },
  {
   "cell_type": "code",
   "execution_count": 10,
   "metadata": {},
   "outputs": [],
   "source": [
    "video_embeddings = np.load('embeddings/video_embeddings_cnn_v2.npy')"
   ]
  },
  {
   "cell_type": "code",
   "execution_count": 11,
   "metadata": {},
   "outputs": [],
   "source": [
    "x_train = torch.Tensor(video_embeddings[:5720])\n",
    "x_val = torch.Tensor(video_embeddings[5720:6785])\n",
    "x_test = torch.Tensor(video_embeddings[6785:])\n",
    "y_train = torch.Tensor([y_map[a] for a in y[:5720]]).long()\n",
    "y_val = torch.Tensor([y_map[a] for a in y[5720:6785]]).long()\n",
    "y_test = torch.Tensor([y_map[a] for a in y[6785:]]).long()"
   ]
  },
  {
   "cell_type": "code",
   "execution_count": 12,
   "metadata": {},
   "outputs": [],
   "source": [
    "train_dataset = torch.utils.data.TensorDataset(x_train, y_train)\n",
    "val_dataset = torch.utils.data.TensorDataset(x_val, y_val)\n",
    "train_loader = torch.utils.data.DataLoader(train_dataset, batch_size=batch_size, shuffle=True)\n",
    "val_loader = torch.utils.data.DataLoader(val_dataset, batch_size=batch_size, shuffle=False)"
   ]
  },
  {
   "cell_type": "code",
   "execution_count": 13,
   "metadata": {},
   "outputs": [
    {
     "name": "stdout",
     "output_type": "stream",
     "text": [
      "Epoch 1/20\n",
      "Train Loss: 1.6644, Train Accuracy: 0.2675\n",
      "Val Loss: 1.5300, Val Accuracy: 0.3136\n",
      "--------------------------------------------------\n",
      "Epoch 2/20\n",
      "Train Loss: 1.4578, Train Accuracy: 0.3927\n",
      "Val Loss: 1.3498, Val Accuracy: 0.4498\n",
      "--------------------------------------------------\n",
      "Epoch 3/20\n",
      "Train Loss: 1.3682, Train Accuracy: 0.4325\n",
      "Val Loss: 1.3582, Val Accuracy: 0.4441\n",
      "--------------------------------------------------\n",
      "Epoch 4/20\n",
      "Train Loss: 1.2672, Train Accuracy: 0.4836\n",
      "Val Loss: 1.1491, Val Accuracy: 0.5343\n",
      "--------------------------------------------------\n",
      "Epoch 5/20\n",
      "Train Loss: 1.2224, Train Accuracy: 0.5100\n",
      "Val Loss: 1.1830, Val Accuracy: 0.5005\n",
      "--------------------------------------------------\n",
      "Epoch 6/20\n",
      "Train Loss: 1.1826, Train Accuracy: 0.5226\n",
      "Val Loss: 1.1893, Val Accuracy: 0.5146\n",
      "--------------------------------------------------\n",
      "Epoch 7/20\n",
      "Train Loss: 1.1456, Train Accuracy: 0.5371\n",
      "Val Loss: 1.0392, Val Accuracy: 0.5784\n",
      "--------------------------------------------------\n",
      "Epoch 8/20\n",
      "Train Loss: 1.0538, Train Accuracy: 0.5776\n",
      "Val Loss: 0.9712, Val Accuracy: 0.6056\n",
      "--------------------------------------------------\n",
      "Epoch 9/20\n",
      "Train Loss: 1.0381, Train Accuracy: 0.5785\n",
      "Val Loss: 0.9439, Val Accuracy: 0.6263\n",
      "--------------------------------------------------\n",
      "Epoch 10/20\n",
      "Train Loss: 1.0083, Train Accuracy: 0.5925\n",
      "Val Loss: 1.0367, Val Accuracy: 0.5897\n",
      "--------------------------------------------------\n",
      "Epoch 11/20\n",
      "Train Loss: 0.9891, Train Accuracy: 0.6051\n",
      "Val Loss: 0.9150, Val Accuracy: 0.6272\n",
      "--------------------------------------------------\n",
      "Epoch 12/20\n",
      "Train Loss: 0.9719, Train Accuracy: 0.6131\n",
      "Val Loss: 0.9422, Val Accuracy: 0.6357\n",
      "--------------------------------------------------\n",
      "Epoch 13/20\n",
      "Train Loss: 0.9476, Train Accuracy: 0.6210\n",
      "Val Loss: 0.9089, Val Accuracy: 0.6366\n",
      "--------------------------------------------------\n",
      "Epoch 14/20\n",
      "Train Loss: 0.9152, Train Accuracy: 0.6353\n",
      "Val Loss: 0.9028, Val Accuracy: 0.6338\n",
      "--------------------------------------------------\n",
      "Epoch 15/20\n",
      "Train Loss: 0.8904, Train Accuracy: 0.6481\n",
      "Val Loss: 0.8337, Val Accuracy: 0.6704\n",
      "--------------------------------------------------\n",
      "Epoch 16/20\n",
      "Train Loss: 0.9019, Train Accuracy: 0.6400\n",
      "Val Loss: 0.8479, Val Accuracy: 0.6545\n",
      "--------------------------------------------------\n",
      "Epoch 17/20\n",
      "Train Loss: 0.8691, Train Accuracy: 0.6516\n",
      "Val Loss: 0.8944, Val Accuracy: 0.6141\n",
      "--------------------------------------------------\n",
      "Epoch 18/20\n",
      "Train Loss: 0.8543, Train Accuracy: 0.6596\n",
      "Val Loss: 0.8664, Val Accuracy: 0.6394\n",
      "--------------------------------------------------\n",
      "Epoch 19/20\n",
      "Train Loss: 0.8607, Train Accuracy: 0.6589\n",
      "Val Loss: 0.9435, Val Accuracy: 0.6178\n",
      "--------------------------------------------------\n",
      "Epoch 20/20\n",
      "Train Loss: 0.8469, Train Accuracy: 0.6649\n",
      "Val Loss: 0.7698, Val Accuracy: 0.6817\n",
      "--------------------------------------------------\n"
     ]
    }
   ],
   "source": [
    "criterion = nn.CrossEntropyLoss()\n",
    "optimizer = optim.Adam(model.parameters(), lr=learning_rate)\n",
    "train_model(model, train_loader, val_loader, criterion, optimizer, epochs)"
   ]
  },
  {
   "cell_type": "code",
   "execution_count": null,
   "metadata": {},
   "outputs": [],
   "source": []
  }
 ],
 "metadata": {
  "kernelspec": {
   "display_name": "emo",
   "language": "python",
   "name": "python3"
  },
  "language_info": {
   "codemirror_mode": {
    "name": "ipython",
    "version": 3
   },
   "file_extension": ".py",
   "mimetype": "text/x-python",
   "name": "python",
   "nbconvert_exporter": "python",
   "pygments_lexer": "ipython3",
   "version": "3.10.12"
  }
 },
 "nbformat": 4,
 "nbformat_minor": 2
}
